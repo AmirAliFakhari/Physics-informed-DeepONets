{
  "nbformat": 4,
  "nbformat_minor": 0,
  "metadata": {
    "colab": {
      "name": "DeepONet_DR.ipynb",
      "provenance": []
    },
    "kernelspec": {
      "name": "python3",
      "display_name": "Python 3"
    },
    "language_info": {
      "name": "python"
    },
    "accelerator": "GPU"
  },
  "cells": [
    {
      "cell_type": "code",
      "metadata": {
        "id": "nY1RmvevXrp9"
      },
      "source": [
        "import jax\n",
        "import jax.numpy as np\n",
        "from jax import random, grad, vmap, jit, hessian, lax\n",
        "from jax.experimental import optimizers\n",
        "from jax.nn import relu\n",
        "from jax.config import config\n",
        "from jax.ops import index_update, index\n",
        "from jax.flatten_util import ravel_pytree\n",
        "\n",
        "import itertools\n",
        "from functools import partial\n",
        "from torch.utils import data\n",
        "from tqdm import trange, tqdm\n",
        "import matplotlib.pyplot as plt\n",
        "\n",
        "from scipy.interpolate import griddata\n",
        "%matplotlib inline"
      ],
      "execution_count": 1,
      "outputs": []
    },
    {
      "cell_type": "code",
      "metadata": {
        "id": "ikWFHV5IX5lh"
      },
      "source": [
        "# Data generator\n",
        "class DataGenerator(data.Dataset):\n",
        "    def __init__(self, u, y, s, \n",
        "                 batch_size=64, rng_key=random.PRNGKey(1234)):\n",
        "        'Initialization'\n",
        "        self.u = u # input sample\n",
        "        self.y = y # location\n",
        "        self.s = s # labeled data evulated at y (solution measurements, BC/IC conditions, etc.)\n",
        "        \n",
        "        self.N = u.shape[0]\n",
        "        self.batch_size = batch_size\n",
        "        self.key = rng_key\n",
        "\n",
        "    def __getitem__(self, index):\n",
        "        'Generate one batch of data'\n",
        "        self.key, subkey = random.split(self.key)\n",
        "        inputs, outputs = self.__data_generation(subkey)\n",
        "        return inputs, outputs\n",
        "\n",
        "    @partial(jit, static_argnums=(0,))\n",
        "    def __data_generation(self, key):\n",
        "        'Generates data containing batch_size samples'\n",
        "        idx = random.choice(key, self.N, (self.batch_size,), replace=False)\n",
        "        s = self.s[idx,:]\n",
        "        y = self.y[idx,:]\n",
        "        u = self.u[idx,:]\n",
        "        # Construct batch\n",
        "        inputs = (u, y)\n",
        "        outputs = s\n",
        "        return inputs, outputs"
      ],
      "execution_count": 2,
      "outputs": []
    },
    {
      "cell_type": "code",
      "metadata": {
        "id": "R4tCyvLs7luG"
      },
      "source": [
        "# Define the neural net\n",
        "def MLP(layers, activation=relu):\n",
        "  ''' Vanilla MLP'''\n",
        "  def init(rng_key):\n",
        "      def init_layer(key, d_in, d_out):\n",
        "          k1, k2 = random.split(key)\n",
        "          glorot_stddev = 1. / np.sqrt((d_in + d_out) / 2.)\n",
        "          W = glorot_stddev * random.normal(k1, (d_in, d_out))\n",
        "          b = np.zeros(d_out)\n",
        "          return W, b\n",
        "      key, *keys = random.split(rng_key, len(layers))\n",
        "      params = list(map(init_layer, keys, layers[:-1], layers[1:]))\n",
        "      return params\n",
        "  def apply(params, inputs):\n",
        "      for W, b in params[:-1]:\n",
        "          outputs = np.dot(inputs, W) + b\n",
        "          inputs = activation(outputs)\n",
        "      W, b = params[-1]\n",
        "      outputs = np.dot(inputs, W) + b\n",
        "      return outputs\n",
        "  return init, apply"
      ],
      "execution_count": 3,
      "outputs": []
    },
    {
      "cell_type": "code",
      "metadata": {
        "id": "4ckGVVDAYCB7"
      },
      "source": [
        "# Define the model\n",
        "class DeepONet:\n",
        "    def __init__(self, branch_layers, trunk_layers):    \n",
        "        # Network initialization and evaluation functions\n",
        "        self.branch_init, self.branch_apply = MLP(branch_layers, activation=np.tanh)\n",
        "        self.trunk_init, self.trunk_apply = MLP(trunk_layers, activation=np.tanh)\n",
        "\n",
        "        # Initialize\n",
        "        branch_params = self.branch_init(rng_key = random.PRNGKey(1234))\n",
        "        trunk_params = self.trunk_init(rng_key = random.PRNGKey(4321))\n",
        "        params = (branch_params, trunk_params)\n",
        "\n",
        "        # Use optimizers to set optimizer initialization and update functions\n",
        "        self.opt_init, \\\n",
        "        self.opt_update, \\\n",
        "        self.get_params = optimizers.adam(optimizers.exponential_decay(1e-3, \n",
        "                                                                      decay_steps=5000, \n",
        "                                                                      decay_rate=0.9))\n",
        "        self.opt_state = self.opt_init(params)\n",
        "\n",
        "        # Used to restore the trained model parameters\n",
        "        _, self.unravel_params = ravel_pytree(params)\n",
        "\n",
        "        self.itercount = itertools.count()\n",
        "\n",
        "        # Loggers\n",
        "        self.loss_log = []\n",
        "\n",
        "    # Define DeepONet architecture\n",
        "    def operator_net(self, params, u, x, t):\n",
        "        branch_params, trunk_params = params\n",
        "        y = np.stack([x, t])\n",
        "        B = self.branch_apply(branch_params, u)\n",
        "        T = self.trunk_apply(trunk_params, y)\n",
        "        outputs = np.sum(B * T)\n",
        "        return  outputs\n",
        "  \n",
        "    # Define operator loss\n",
        "    def loss_operator(self, params, batch):\n",
        "        inputs, outputs = batch\n",
        "        u, y = inputs\n",
        "        # Compute forward pass\n",
        "        s_pred = vmap(self.operator_net, (None, 0, 0, 0))(params, u, y[:,0], y[:,1])\n",
        "        # Compute loss\n",
        "        loss = np.mean((outputs.flatten() - s_pred.flatten())**2)\n",
        "        return loss\n",
        "\n",
        "    # Define a compiled update step\n",
        "    @partial(jit, static_argnums=(0,))\n",
        "    def step(self, i, opt_state, batch):\n",
        "        params = self.get_params(opt_state)\n",
        "        g = grad(self.loss_operator)(params, batch)\n",
        "        return self.opt_update(i, g, opt_state)\n",
        "\n",
        "    # Optimize parameters in a loop\n",
        "    def train(self, dataset, nIter = 10000):\n",
        "        # Define data iterators\n",
        "        data_iterator = iter(dataset)\n",
        "\n",
        "        pbar = trange(nIter)\n",
        "        # Main training loop\n",
        "        for it in pbar:\n",
        "            # Fetch data\n",
        "            batch = next(data_iterator)\n",
        "           \n",
        "            self.opt_state = self.step(next(self.itercount), self.opt_state, batch)\n",
        "            \n",
        "            if it % 100 == 0:\n",
        "                params = self.get_params(self.opt_state)\n",
        "\n",
        "                # Compute loss\n",
        "                loss_value = self.loss_operator(params, batch)\n",
        "\n",
        "                # Store loss\n",
        "                self.loss_log.append(loss_value)\n",
        "  \n",
        "                # Print loss\n",
        "                pbar.set_postfix({'Loss': loss_value})\n",
        "           \n",
        "    # Evaluates predictions at test points  \n",
        "    @partial(jit, static_argnums=(0,))\n",
        "    def predict_s(self, params, U_star, Y_star):\n",
        "        s_pred = vmap(self.operator_net, (None, 0, 0, 0))(params, U_star, Y_star[:,0], Y_star[:,1])\n",
        "        return s_pred"
      ],
      "execution_count": 4,
      "outputs": []
    },
    {
      "cell_type": "code",
      "metadata": {
        "id": "EyGqzSnIv211"
      },
      "source": [
        "# Use double precision to generate data (due to GP sampling)\n",
        "def RBF(x1, x2, params):\n",
        "    output_scale, lengthscales = params\n",
        "    diffs = np.expand_dims(x1 / lengthscales, 1) - \\\n",
        "            np.expand_dims(x2 / lengthscales, 0)\n",
        "    r2 = np.sum(diffs**2, axis=2)\n",
        "    return output_scale * np.exp(-0.5 * r2)\n",
        "\n",
        "# A diffusion-reaction numerical solver\n",
        "def solve_ADR(key, Nx, Nt, P, length_scale):\n",
        "    \"\"\"Solve 1D\n",
        "    u_t = (k(x) u_x)_x - v(x) u_x + g(u) + f(x)\n",
        "    with zero initial and boundary conditions.\n",
        "    \"\"\"\n",
        "    xmin, xmax = 0, 1\n",
        "    tmin, tmax = 0, 1\n",
        "    k = lambda x: 0.01*np.ones_like(x)\n",
        "    v = lambda x: np.zeros_like(x)\n",
        "    g = lambda u: 0.01*u ** 2\n",
        "    dg = lambda u: 0.02 * u\n",
        "    u0 = lambda x: np.zeros_like(x)\n",
        "\n",
        "    # Generate subkeys\n",
        "    subkeys = random.split(key, 2)\n",
        "\n",
        "    # Generate a GP sample\n",
        "    N = 512\n",
        "    gp_params = (1.0, length_scale)\n",
        "    jitter = 1e-10\n",
        "    X = np.linspace(xmin, xmax, N)[:,None]\n",
        "    K = RBF(X, X, gp_params)\n",
        "    L = np.linalg.cholesky(K + jitter*np.eye(N))\n",
        "    gp_sample = np.dot(L, random.normal(subkeys[0], (N,)))\n",
        "    # Create a callable interpolation function  \n",
        "    f_fn = lambda x: np.interp(x, X.flatten(), gp_sample)\n",
        "\n",
        "    # Create grid\n",
        "    x = np.linspace(xmin, xmax, Nx)\n",
        "    t = np.linspace(tmin, tmax, Nt)\n",
        "    h = x[1] - x[0]\n",
        "    dt = t[1] - t[0]\n",
        "    h2 = h ** 2\n",
        "\n",
        "    # Compute coefficients and forcing\n",
        "    k = k(x)\n",
        "    v = v(x)\n",
        "    f = f_fn(x)\n",
        "\n",
        "    # Compute finite difference operators\n",
        "    D1 = np.eye(Nx, k=1) - np.eye(Nx, k=-1)\n",
        "    D2 = -2 * np.eye(Nx) + np.eye(Nx, k=-1) + np.eye(Nx, k=1)\n",
        "    D3 = np.eye(Nx - 2)\n",
        "    M = -np.diag(D1 @ k) @ D1 - 4 * np.diag(k) @ D2\n",
        "    m_bond = 8 * h2 / dt * D3 + M[1:-1, 1:-1]\n",
        "    v_bond = 2 * h * np.diag(v[1:-1]) @ D1[1:-1, 1:-1] + 2 * h * np.diag(\n",
        "        v[2:] - v[: Nx - 2]\n",
        "    )\n",
        "    mv_bond = m_bond + v_bond\n",
        "    c = 8 * h2 / dt * D3 - M[1:-1, 1:-1] - v_bond\n",
        "\n",
        "    # Initialize solution and apply initial condition\n",
        "    u = np.zeros((Nx, Nt))\n",
        "    u = index_update(u, index[:,0], u0(x))\n",
        "    # Time-stepping update\n",
        "    def body_fn(i, u):\n",
        "        gi = g(u[1:-1, i])\n",
        "        dgi = dg(u[1:-1, i])\n",
        "        h2dgi = np.diag(4 * h2 * dgi)\n",
        "        A = mv_bond - h2dgi\n",
        "        b1 = 8 * h2 * (0.5 * f[1:-1] + 0.5 * f[1:-1] + gi)\n",
        "        b2 = (c - h2dgi) @ u[1:-1, i].T\n",
        "        u = index_update(u, index[1:-1, i + 1], np.linalg.solve(A, b1 + b2))\n",
        "        return u\n",
        "    # Run loop\n",
        "    UU = lax.fori_loop(0, Nt-1, body_fn, u)\n",
        "\n",
        "    # Input sensor locations and measurements\n",
        "    xx = np.linspace(xmin, xmax, m)\n",
        "    u = f_fn(xx)\n",
        "    # Output sensor locations and measurements\n",
        "    idx = random.randint(subkeys[1], (P, 2), 0, max(Nx, Nt))\n",
        "    y = np.concatenate([x[idx[:,0]][:,None], t[idx[:,1]][:,None]], axis = 1)\n",
        "    s = UU[idx[:,0], idx[:,1]]\n",
        "    # x, t: sampled points on grid\n",
        "    return (x, t, UU), (u, y, s)\n",
        "\n",
        "# Geneate training data corresponding to one input sample\n",
        "def generate_one_training_data(key, P):\n",
        "    # Numerical solution\n",
        "    (x, t, UU), (u, y, s) = solve_ADR(key, Nx , Nt, P, length_scale)\n",
        "\n",
        "    u = np.tile(u, (P, 1))\n",
        "\n",
        "    return u, y, s\n",
        "\n",
        "# Geneate test data corresponding to one input sample\n",
        "def generate_one_test_data(key, P):\n",
        "    Nx = P\n",
        "    Nt = P\n",
        "    (x, t, UU), (u, y, s) = solve_ADR(key, Nx , Nt, P, length_scale)\n",
        "\n",
        "    XX, TT = np.meshgrid(x, t)\n",
        "\n",
        "    u_test = np.tile(u, (P**2, 1))\n",
        "    y_test = np.hstack([XX.flatten()[:,None], TT.flatten()[:,None]])\n",
        "    s_test = UU.T.flatten()\n",
        "\n",
        "    return u_test, y_test, s_test\n",
        "\n",
        "# Geneate training data corresponding to N input sample\n",
        "def generate_training_data(key, N, P):\n",
        "    config.update(\"jax_enable_x64\", True)\n",
        "    keys = random.split(key, N)\n",
        "    u_train, y_train, s_train= vmap(generate_one_training_data, (0, None))(keys, P)\n",
        "\n",
        "    u_train = np.float32(u_train.reshape(N * P, -1))\n",
        "    y_train = np.float32(y_train.reshape(N * P, -1))\n",
        "    s_train = np.float32(s_train.reshape(N * P, -1))\n",
        "\n",
        "    config.update(\"jax_enable_x64\", False)\n",
        "    return u_train, y_train, s_train\n",
        "\n",
        "# Geneate test data corresponding to N input sample\n",
        "def generate_test_data(key, N, P):\n",
        "\n",
        "    config.update(\"jax_enable_x64\", True)\n",
        "    keys = random.split(key, N)\n",
        "\n",
        "    u_test, y_test, s_test = vmap(generate_one_test_data, (0, None))(keys, P)\n",
        "\n",
        "    u_test = np.float32(u_test.reshape(N * P**2, -1))\n",
        "    y_test = np.float32(y_test.reshape(N * P**2, -1))\n",
        "    s_test = np.float32(s_test.reshape(N * P**2, -1))\n",
        "\n",
        "    config.update(\"jax_enable_x64\", False)\n",
        "    return u_test, y_test, s_test\n",
        "\n",
        "# Compute relative l2 error over N test samples.\n",
        "def compute_error(key, P):\n",
        "    # Generate one test sample\n",
        "    u_test, y_test, s_test = generate_test_data(key, 1, P)\n",
        "    # Predict  \n",
        "    s_pred = model.predict_s(params, u_test, y_test)[:,None]\n",
        "    # Compute relative l2 error\n",
        "    error_s = np.linalg.norm(s_test - s_pred) / np.linalg.norm(s_test) \n",
        "    return error_s"
      ],
      "execution_count": 5,
      "outputs": []
    },
    {
      "cell_type": "code",
      "metadata": {
        "id": "s4o8uU971yfJ"
      },
      "source": [
        "key = random.PRNGKey(0)\n",
        "\n",
        "# GRF length scale\n",
        "length_scale = 0.2\n",
        "\n",
        "# Resolution of the solution\n",
        "Nx = 100\n",
        "Nt = 100\n",
        "\n",
        "N = 5000 # number of input samples\n",
        "m = Nx   # number of input sensors\n",
        "P_train = 100 # number of output sensors\n",
        "\n",
        "u_train, y_train, s_train = generate_training_data(key, N, P_train)"
      ],
      "execution_count": 6,
      "outputs": []
    },
    {
      "cell_type": "code",
      "metadata": {
        "id": "ZdbEC_IV5d8r"
      },
      "source": [
        "# Initialize model\n",
        "branch_layers = [m, 50, 50, 50, 50, 50]\n",
        "trunk_layers =  [2, 50, 50, 50, 50, 50]\n",
        "model = DeepONet(branch_layers, trunk_layers)"
      ],
      "execution_count": 7,
      "outputs": []
    },
    {
      "cell_type": "code",
      "metadata": {
        "id": "FDVeE-dk6I35"
      },
      "source": [
        "# Create data set\n",
        "batch_size = 10000\n",
        "dataset = DataGenerator(u_train, y_train, s_train, batch_size)"
      ],
      "execution_count": 8,
      "outputs": []
    },
    {
      "cell_type": "code",
      "metadata": {
        "colab": {
          "base_uri": "https://localhost:8080/"
        },
        "id": "RYb9vB0h7Kzl",
        "outputId": "b46ae85e-075b-437f-9462-854942fe480b"
      },
      "source": [
        "# Train\n",
        "model.train(dataset, nIter=80000)\n"
      ],
      "execution_count": 9,
      "outputs": [
        {
          "output_type": "stream",
          "text": [
            "100%|██████████| 80000/80000 [07:18<00:00, 182.55it/s, Loss=1.4875991e-05]\n"
          ],
          "name": "stderr"
        }
      ]
    },
    {
      "cell_type": "code",
      "metadata": {
        "colab": {
          "base_uri": "https://localhost:8080/"
        },
        "id": "cN2my_9hfe4e",
        "outputId": "868d3964-4337-4fc2-dd68-df491aaab83d"
      },
      "source": [
        "# Test data\n",
        "N_test = 100 # number of input samples \n",
        "P_test = m   # number of sensors \n",
        "key_test = random.PRNGKey(1234567)\n",
        "keys_test = random.split(key_test, N_test)\n",
        "\n",
        "# Predict\n",
        "params = model.get_params(model.opt_state)\n",
        "\n",
        "# Compute error\n",
        "error_s = vmap(compute_error, (0, None))(keys_test,P_test) \n",
        "\n",
        "print('mean of relative L2 error of s: {:.2e}'.format(error_s.mean()))\n",
        "print('std of relative L2 error of s: {:.2e}'.format(error_s.std()))"
      ],
      "execution_count": 10,
      "outputs": [
        {
          "output_type": "stream",
          "text": [
            "mean of relative L2 error of s: 9.33e-03\n",
            "std of relative L2 error of s: 3.90e-03\n"
          ],
          "name": "stdout"
        }
      ]
    },
    {
      "cell_type": "code",
      "metadata": {
        "colab": {
          "base_uri": "https://localhost:8080/",
          "height": 386
        },
        "id": "E1M0cRJzt2yK",
        "outputId": "17537a52-51cc-435e-ebc5-b6b7af187dbe"
      },
      "source": [
        "#Plot for loss function\n",
        "plt.figure(figsize = (6,5))\n",
        "plt.plot(model.loss_log, lw=2)\n",
        "\n",
        "plt.xlabel('Iteration')\n",
        "plt.ylabel('Loss')\n",
        "plt.yscale('log')\n",
        "plt.legend()\n",
        "plt.tight_layout()\n",
        "plt.show()"
      ],
      "execution_count": 11,
      "outputs": [
        {
          "output_type": "stream",
          "text": [
            "WARNING:matplotlib.legend:No handles with labels found to put in legend.\n"
          ],
          "name": "stderr"
        },
        {
          "output_type": "display_data",
          "data": {
            "image/png": "[encoded data removed]",
            "text/plain": [
              "<Figure size 432x360 with 1 Axes>"
            ]
          },
          "metadata": {
            "tags": [],
            "needs_background": "light"
          }
        }
      ]
    },
    {
      "cell_type": "code",
      "metadata": {
        "id": "865O-1F49oIm",
        "colab": {
          "base_uri": "https://localhost:8080/"
        },
        "outputId": "937b4427-6d43-4052-de30-405b1a6d65d2"
      },
      "source": [
        "# Generate one test sample\n",
        "key = random.PRNGKey(12345)\n",
        "P_test = 100\n",
        "Nx = m\n",
        "u_test, y_test, s_test = generate_test_data(key, 1, P_test)\n",
        "\n",
        "# Predict\n",
        "params = model.get_params(model.opt_state)\n",
        "s_pred = model.predict_s(params, u_test, y_test)\n",
        "\n",
        "# Generate an uniform mesh\n",
        "x = np.linspace(0, 1, Nx)\n",
        "t = np.linspace(0, 1, Nt)\n",
        "XX, TT = np.meshgrid(x, t)\n",
        "\n",
        "# Grid data\n",
        "S_pred = griddata(y_test, s_pred.flatten(), (XX,TT), method='cubic')\n",
        "S_test = griddata(y_test, s_test.flatten(), (XX,TT), method='cubic')\n",
        "\n",
        "# Compute the relative l2 error \n",
        "error = np.linalg.norm(S_pred - S_test, 2) / np.linalg.norm(S_test, 2) \n",
        "print('Relative l2 errpr: {:.3e}'.format(error))"
      ],
      "execution_count": 12,
      "outputs": [
        {
          "output_type": "stream",
          "text": [
            "Relative l2 errpr: 7.553e-03\n"
          ],
          "name": "stdout"
        }
      ]
    },
    {
      "cell_type": "code",
      "metadata": {
        "colab": {
          "base_uri": "https://localhost:8080/",
          "height": 369
        },
        "id": "662sBR7X-I9x",
        "outputId": "b07abd9f-d74c-4991-f656-65bdc54471ef"
      },
      "source": [
        "# Plot\n",
        "fig = plt.figure(figsize=(18,5))\n",
        "plt.subplot(1,3,1)\n",
        "plt.pcolor(XX,TT, S_test, cmap='seismic')\n",
        "plt.colorbar()\n",
        "plt.xlabel('$x$')\n",
        "plt.ylabel('$t$')\n",
        "plt.title('Exact $s(x,t)$')\n",
        "plt.tight_layout()\n",
        "\n",
        "plt.subplot(1,3,2)\n",
        "plt.pcolor(XX,TT, S_pred, cmap='seismic')\n",
        "plt.colorbar()\n",
        "plt.xlabel('$x$')\n",
        "plt.ylabel('$t$')\n",
        "plt.title('Predict $s(x,t)$')\n",
        "plt.tight_layout()\n",
        "\n",
        "plt.subplot(1,3,3)\n",
        "plt.pcolor(XX,TT, S_pred - S_test, cmap='seismic')\n",
        "plt.colorbar()\n",
        "plt.xlabel('$x$')\n",
        "plt.ylabel('$t$')\n",
        "plt.title('Absolute error')\n",
        "plt.tight_layout()\n",
        "plt.show()"
      ],
      "execution_count": 13,
      "outputs": [
        {
          "output_type": "display_data",
          "data": {
            "image/png": "[encoded data removed]",
            "text/plain": [
              "<Figure size 1296x360 with 6 Axes>"
            ]
          },
          "metadata": {
            "tags": [],
            "needs_background": "light"
          }
        }
      ]
    },
    {
      "cell_type": "code",
      "metadata": {
        "id": "2nhr_hOJXPh9"
      },
      "source": [
        ""
      ],
      "execution_count": 13,
      "outputs": []
    }
  ]
}